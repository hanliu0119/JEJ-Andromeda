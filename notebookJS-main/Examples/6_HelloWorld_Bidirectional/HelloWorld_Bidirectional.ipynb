{
 "cells": [
  {
   "cell_type": "markdown",
   "metadata": {
    "id": "IaxAGrTGttuV"
   },
   "source": [
    "# notebookJS Colab HelloWorld\n",
    "\n",
    "In this notebook, we show how to use notebookJS to run custom Javascript code. We also show how to send messages between Python and Javascript."
   ]
  },
  {
   "cell_type": "code",
   "execution_count": null,
   "metadata": {
    "id": "vYD-yjPtn_ik"
   },
   "outputs": [],
   "source": []
  },
  {
   "cell_type": "markdown",
   "metadata": {
    "id": "BjePMHoyt9TF"
   },
   "source": [
    "## Defining the JavaScript drawing function.\n",
    "\n",
    "The function requests a message to python every 1 second. The callback identifier is called *get_hello*"
   ]
  },
  {
   "cell_type": "code",
   "execution_count": 9,
   "metadata": {
    "id": "10am7Nm9oCc9"
   },
   "outputs": [],
   "source": [
    "helloworld_js = \"\"\"\n",
    "function helloworld(div_id, data){\n",
    "    comm = new CommAPI(\"get_hello\", (ret) => {\n",
    "      document.querySelector(div_id).textContent = ret.text;\n",
    "    });\n",
    "    comm.call(3);\n",
    "}\n",
    "\"\"\""
   ]
  },
  {
   "cell_type": "markdown",
   "metadata": {
    "id": "zsXaw6XxuJF2"
   },
   "source": [
    "## Defining the Python callback"
   ]
  },
  {
   "cell_type": "code",
   "execution_count": 10,
   "metadata": {
    "id": "L0ucikc4oIOW"
   },
   "outputs": [],
   "source": [
    "import random\n",
    "def hello_world_random(data):\n",
    "  hello_world_languages = [\n",
    "      \"Ola Mundo\", # Portuguese\n",
    "      \"Hello World\", # English\n",
    "      \"Hola Mundo\", # Spanish\n",
    "      \"Geiá sou Kósme\", # Greek\n",
    "      \"Kon'nichiwa sekai\", # Japanese\n",
    "      \"Hallo Welt\", # German\n",
    "      \"namaste duniya\" #Hindi\n",
    "  ]\n",
    "  i = random.randint(0, len(hello_world_languages)-1)\n",
    "  return {'text': hello_world_languages[data]}"
   ]
  },
  {
   "cell_type": "markdown",
   "metadata": {
    "id": "g-rkBdq7uXSL"
   },
   "source": [
    "## Running the javascript function with Python callbacks"
   ]
  },
  {
   "cell_type": "code",
   "execution_count": 11,
   "metadata": {
    "id": "HaxtaaB-pj0z"
   },
   "outputs": [
    {
     "data": {
      "text/html": [
       "<html>\n",
       "<head>\n",
       "<style>\n",
       "\n",
       "</style>\n",
       "</head>\n",
       "<body>\n",
       "    <div id=\"ZZAIBDQZAGDEDHE\">\n",
       "    </div>\n",
       "    <script charset=\"utf-8\">\n",
       "        (function () {\n",
       "            const COMM_TYPES = {\n",
       "  JUPYTER: 'JUPYTER',\n",
       "  COLAB: 'COLAB'\n",
       "};\n",
       "\n",
       "class CommAPI{\n",
       "  constructor(api_call_id, callback) {\n",
       "    this.callback = callback;\n",
       "    this.mode = null;\n",
       "    if (window.Jupyter !== undefined) {\n",
       "      this.mode = COMM_TYPES.JUPYTER;\n",
       "      this.comm = window.Jupyter.notebook.kernel.comm_manager.new_comm(api_call_id, {});\n",
       "      this.comm.on_msg(msg => {\n",
       "        const data = msg.content.data;\n",
       "        callback(data);\n",
       "      });\n",
       "    } else if (window.google !== undefined) {\n",
       "      this.mode = COMM_TYPES.COLAB;\n",
       "      this.comm = async function(msg){\n",
       "        const result = await google.colab.kernel.invokeFunction(\n",
       "          api_call_id,\n",
       "          [msg], // The argument\n",
       "          {}); // kwargs\n",
       "        callback(result.data['application/json']);\n",
       "      };\n",
       "    } else {\n",
       "      console.error(new Error(\"Cannot find Jupyter/Colab namespace from javascript\"));\n",
       "    }\n",
       "  }\n",
       "\n",
       "  call(msg) {\n",
       "    if (this.comm){\n",
       "      if (this.mode === COMM_TYPES.JUPYTER){\n",
       "        this.comm.send(msg);\n",
       "      } else if (this.mode === COMM_TYPES.COLAB){\n",
       "        this.comm(msg);\n",
       "      }\n",
       "    }\n",
       "  }\n",
       "}\n",
       "\n",
       "\n",
       "function helloworld(div_id, data){\n",
       "    comm = new CommAPI(\"get_hello\", (ret) => {\n",
       "      document.querySelector(div_id).textContent = ret.text;\n",
       "    });\n",
       "    comm.call(3);\n",
       "}\n",
       "\n",
       "            helloworld (\"#ZZAIBDQZAGDEDHE\", {});\n",
       "        })()\n",
       "    </script>\n",
       "</body>\n",
       "</html>"
      ],
      "text/plain": [
       "<IPython.core.display.HTML object>"
      ]
     },
     "metadata": {},
     "output_type": "display_data"
    }
   ],
   "source": [
    "from notebookjs import execute_js\n",
    "execute_js(helloworld_js, \"helloworld\", callbacks={\"get_hello\": hello_world_random})"
   ]
  },
  {
   "cell_type": "code",
   "execution_count": null,
   "metadata": {
    "id": "848VKX8jqGbW"
   },
   "outputs": [],
   "source": []
  }
 ],
 "metadata": {
  "colab": {
   "collapsed_sections": [],
   "name": "HelloWorld_notebookJS_Colab.ipynb",
   "provenance": []
  },
  "kernelspec": {
   "display_name": "Python 3",
   "language": "python",
   "name": "python3"
  },
  "language_info": {
   "codemirror_mode": {
    "name": "ipython",
    "version": 3
   },
   "file_extension": ".py",
   "mimetype": "text/x-python",
   "name": "python",
   "nbconvert_exporter": "python",
   "pygments_lexer": "ipython3",
   "version": "3.8.5"
  }
 },
 "nbformat": 4,
 "nbformat_minor": 1
}
